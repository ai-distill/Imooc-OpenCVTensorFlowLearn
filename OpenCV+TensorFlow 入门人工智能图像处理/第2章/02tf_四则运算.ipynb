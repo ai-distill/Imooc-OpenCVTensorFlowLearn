{
 "cells": [
  {
   "cell_type": "code",
   "execution_count": 6,
   "metadata": {},
   "outputs": [
    {
     "name": "stdout",
     "output_type": "stream",
     "text": [
      "8\n",
      "12\n",
      "4\n",
      "3.0\n"
     ]
    }
   ],
   "source": [
    "# 常数之间的四则运算\n",
    "import tensorflow as tf\n",
    "data1 = tf.constant(6)\n",
    "data2 = tf.constant(2)\n",
    "data_add = tf.add(data1, data2)\n",
    "data_mul = tf.multiply(data1, data2)\n",
    "data_sub = tf.subtract(data1, data2)\n",
    "data_div = tf.divide(data1, data2)\n",
    "with tf.Session() as sess:\n",
    "    print(sess.run(data_add))\n",
    "    print(sess.run(data_mul))\n",
    "    print(sess.run(data_sub))\n",
    "    print(sess.run(data_div))"
   ]
  },
  {
   "cell_type": "code",
   "execution_count": 9,
   "metadata": {},
   "outputs": [
    {
     "name": "stdout",
     "output_type": "stream",
     "text": [
      "8\n",
      "12\n",
      "4\n",
      "3.0\n"
     ]
    }
   ],
   "source": [
    "# 常数与变量的四则运算\n",
    "import tensorflow as tf\n",
    "data1 = tf.constant(6)\n",
    "data2 = tf.Variable(2)\n",
    "data_add = tf.add(data1, data2)\n",
    "data_copy = tf.assign(data2, data_add) # 将data_add运算的结果追加到data2中\n",
    "data_mul = tf.multiply(data1, data2)\n",
    "data_sub = tf.subtract(data1, data2)\n",
    "data_div = tf.divide(data1, data2)\n",
    "init = tf.global_variables_initializer()\n",
    "with tf.Session() as sess:\n",
    "    # 所有的变量必须完成初始化才可以操作\n",
    "    sess.run(init)\n",
    "    print(sess.run(data_add))\n",
    "    print(sess.run(data_mul))\n",
    "    print(sess.run(data_sub))\n",
    "    print(sess.run(data_div))"
   ]
  },
  {
   "cell_type": "code",
   "execution_count": 12,
   "metadata": {},
   "outputs": [
    {
     "name": "stdout",
     "output_type": "stream",
     "text": [
      "8\n",
      "12\n",
      "4\n",
      "3.0\n",
      "data2: 2\n",
      "sess.run(data_copy)  8\n",
      "data2: 8\n",
      "data_copy.eval() 14\n",
      "data2: 14\n",
      "tf.get_default_session().run(data_copy) 20\n",
      "data2: 20\n"
     ]
    }
   ],
   "source": [
    "import tensorflow as tf\n",
    "data1 = tf.constant(6)\n",
    "data2 = tf.Variable(2)\n",
    "data_add = tf.add(data1, data2)\n",
    "data_copy = tf.assign(data2, data_add) # 将data_add运算的结果追加到data2中\n",
    "data_mul = tf.multiply(data1, data2)\n",
    "data_sub = tf.subtract(data1, data2)\n",
    "data_div = tf.divide(data1, data2)\n",
    "init = tf.global_variables_initializer()\n",
    "with tf.Session() as sess:\n",
    "    # 所有的变量必须完成初始化才可以操作\n",
    "    sess.run(init)\n",
    "    print(sess.run(data_add))\n",
    "    print(sess.run(data_mul))\n",
    "    print(sess.run(data_sub))\n",
    "    print(sess.run(data_div))\n",
    "    print(\"data2:\", sess.run(data2))\n",
    "    print(\"sess.run(data_copy) \", sess.run(data_copy)) # 将8赋值给data_copy\n",
    "    print(\"data2:\", sess.run(data2))\n",
    "    # 将8+6赋值给data_copy, eval()方法类似于下面的代码，也是会话执行\n",
    "    print(\"data_copy.eval()\", data_copy.eval())  # 此时data_add已经为14\n",
    "    print(\"data2:\", sess.run(data2))\n",
    "    print(\"tf.get_default_session().run(data_copy)\", tf.get_default_session().run(data_copy))\n",
    "    print(\"data2:\", sess.run(data2))\n",
    "    # 计算图执行得两种方式：\n",
    "    # 1. sess.run(图名)\n",
    "    # 2. 图名.eval()"
   ]
  },
  {
   "cell_type": "code",
   "execution_count": null,
   "metadata": {},
   "outputs": [],
   "source": []
  }
 ],
 "metadata": {
  "kernelspec": {
   "display_name": "Python 3",
   "language": "python",
   "name": "python3"
  },
  "language_info": {
   "codemirror_mode": {
    "name": "ipython",
    "version": 3
   },
   "file_extension": ".py",
   "mimetype": "text/x-python",
   "name": "python",
   "nbconvert_exporter": "python",
   "pygments_lexer": "ipython3",
   "version": "3.7.0"
  }
 },
 "nbformat": 4,
 "nbformat_minor": 2
}
