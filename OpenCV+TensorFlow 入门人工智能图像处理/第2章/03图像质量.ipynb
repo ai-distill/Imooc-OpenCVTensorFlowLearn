{
 "cells": [
  {
   "cell_type": "code",
   "execution_count": 1,
   "metadata": {},
   "outputs": [],
   "source": [
    "import cv2"
   ]
  },
  {
   "cell_type": "code",
   "execution_count": 8,
   "metadata": {},
   "outputs": [],
   "source": [
    "img = cv2.imread('./image0.jpg', 1)"
   ]
  },
  {
   "cell_type": "code",
   "execution_count": 10,
   "metadata": {},
   "outputs": [
    {
     "data": {
      "text/plain": [
       "True"
      ]
     },
     "execution_count": 10,
     "metadata": {},
     "output_type": "execute_result"
    }
   ],
   "source": [
    "# jpg图片压缩，是有损压缩\n",
    "# 第3个参数用来描述当前图片的质量,对于jpg图片的压缩可以采用不同的压缩比来对其进行控制，范围是0-100\n",
    "# 有损压缩，以牺牲图片质量为代价\n",
    "cv2.imwrite('imageTest2.jpg', img, [cv2.IMWRITE_JPEG_QUALITY, 50]) "
   ]
  },
  {
   "cell_type": "code",
   "execution_count": 7,
   "metadata": {},
   "outputs": [],
   "source": [
    "# png图片压缩，是无损压缩\n",
    "# jpg图片压缩与png图片压缩的区别：\n",
    "1. jpg是有损压缩，而png是无损压缩\n",
    "2. jpg无法设置透明度，png可以设置透明度，不仅仅可以修改传统的RGB"
   ]
  },
  {
   "cell_type": "code",
   "execution_count": 11,
   "metadata": {},
   "outputs": [
    {
     "data": {
      "text/plain": [
       "True"
      ]
     },
     "execution_count": 11,
     "metadata": {},
     "output_type": "execute_result"
    }
   ],
   "source": [
    "import cv2\n",
    "img = cv2.imread('./image0.jpg', 1)\n",
    "cv2.imwrite('imageTest.png', img, [cv2.IMWRITE_PNG_COMPRESSION, 0])"
   ]
  },
  {
   "cell_type": "code",
   "execution_count": null,
   "metadata": {},
   "outputs": [],
   "source": [
    "# 总结：\n",
    "对于JPG 来说 数字越小，压缩比越高，图片质量越不清晰，压缩范围是0-100\n",
    "对于PNG 来说，数字越小，压缩比越低，图片质量越清晰 ，压缩范围是0-9 "
   ]
  }
 ],
 "metadata": {
  "kernelspec": {
   "display_name": "Python 3",
   "language": "python",
   "name": "python3"
  },
  "language_info": {
   "codemirror_mode": {
    "name": "ipython",
    "version": 3
   },
   "file_extension": ".py",
   "mimetype": "text/x-python",
   "name": "python",
   "nbconvert_exporter": "python",
   "pygments_lexer": "ipython3",
   "version": "3.7.0"
  }
 },
 "nbformat": 4,
 "nbformat_minor": 2
}
