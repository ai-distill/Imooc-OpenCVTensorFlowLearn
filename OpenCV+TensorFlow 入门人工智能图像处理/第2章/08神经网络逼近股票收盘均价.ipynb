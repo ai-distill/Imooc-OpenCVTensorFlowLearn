{
 "cells": [
  {
   "cell_type": "code",
   "execution_count": 2,
   "metadata": {},
   "outputs": [],
   "source": [
    "import tensorflow as tf\n",
    "import numpy as np\n",
    "import matplotlib.pyplot as plt\n"
   ]
  },
  {
   "cell_type": "code",
   "execution_count": 5,
   "metadata": {},
   "outputs": [
    {
     "name": "stdout",
     "output_type": "stream",
     "text": [
      "[ 1.  2.  3.  4.  5.  6.  7.  8.  9. 10. 11. 12. 13. 14. 15.]\n"
     ]
    }
   ],
   "source": [
    "# linspace指的是从1增长到15，共有15个数据\n",
    "date = np.linspace(1, 15, num=15)\n",
    "print(date)\n",
    "# 收盘价格\n",
    "endprice = np.array([2511.90, 2538.26, 2510.68, 2591.66, 2732.98, 2701.69, 2701.29, 2678.67, 2726.50, 2681.50, 2739.17, 2715.07, 2823.58, 2864.90, 2919.08])\n",
    "# 开盘价格\n",
    "beginprice = np.array([2438.71, 2500.88, 2534.95, 2512.52, 2594.04, 2743.26, 2697.47, 2695.24, 2678.23, 2722.13, 2674.93, 2744.13, 2717.46, 2832.73, 2877.40])"
   ]
  },
  {
   "cell_type": "code",
   "execution_count": 6,
   "metadata": {},
   "outputs": [
    {
     "data": {
      "image/png": "[encoded data removed]",
      "text/plain": [
       "<Figure size 432x288 with 1 Axes>"
      ]
     },
     "metadata": {
      "needs_background": "light"
     },
     "output_type": "display_data"
    }
   ],
   "source": [
    "plt.figure()\n",
    "for i in range(0, 15):\n",
    "    # 用折线表示每一个柱状\n",
    "    # 绘制1个柱状图需要哪些元素呢：x坐标，y坐标，\n",
    "    data_one = np.zeros([2])\n",
    "    data_one[0] = i\n",
    "    data_one[1] = i\n",
    "    price_one = np.zeros([2])\n",
    "    price_one[0]= beginprice[i]\n",
    "    price_one[1] = endprice[i]\n",
    "    # 价格上涨用红色\n",
    "    if endprice[i] > beginprice[i]:\n",
    "        plt.plot(data_one, price_one, 'r', lw=8)\n",
    "    # 价格下跌用绿色\n",
    "    else:\n",
    "        plt.plot(data_one, price_one, 'g', lw=8)"
   ]
  },
  {
   "cell_type": "code",
   "execution_count": 12,
   "metadata": {},
   "outputs": [
    {
     "data": {
      "image/png": "[encoded data removed]",
      "text/plain": [
       "<Figure size 432x288 with 1 Axes>"
      ]
     },
     "metadata": {
      "needs_background": "light"
     },
     "output_type": "display_data"
    }
   ],
   "source": [
    "plt.figure()\n",
    "for i in range(0, 15):\n",
    "    # 用折线表示每一个柱状\n",
    "    # 绘制1个柱状图需要哪些元素呢：x坐标，y坐标，\n",
    "    data_one = np.zeros([2])\n",
    "    data_one[0] = i\n",
    "    data_one[1] = i\n",
    "    price_one = np.zeros([2])\n",
    "    price_one[0]= beginprice[i]\n",
    "    price_one[1] = endprice[i]\n",
    "    # 绘制每一天的股票价格区间\n",
    "    plt.plot(data_one, price_one, 'g', lw=8)"
   ]
  },
  {
   "cell_type": "code",
   "execution_count": null,
   "metadata": {},
   "outputs": [],
   "source": []
  }
 ],
 "metadata": {
  "kernelspec": {
   "display_name": "Python 3",
   "language": "python",
   "name": "python3"
  },
  "language_info": {
   "codemirror_mode": {
    "name": "ipython",
    "version": 3
   },
   "file_extension": ".py",
   "mimetype": "text/x-python",
   "name": "python",
   "nbconvert_exporter": "python",
   "pygments_lexer": "ipython3",
   "version": "3.7.0"
  }
 },
 "nbformat": 4,
 "nbformat_minor": 2
}
