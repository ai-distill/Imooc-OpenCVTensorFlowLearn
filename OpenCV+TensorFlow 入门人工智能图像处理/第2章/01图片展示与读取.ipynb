{
 "cells": [
  {
   "cell_type": "code",
   "execution_count": 2,
   "metadata": {},
   "outputs": [],
   "source": [
    "#1 引入opencv 2 API 3 stop\n",
    "import cv2"
   ]
  },
  {
   "cell_type": "code",
   "execution_count": 3,
   "metadata": {},
   "outputs": [],
   "source": [
    "# 有2个参数，第1个参数是文件名，\n",
    "# 第2个参数是图片的类型，如果当前参数为0，读取的是灰度图片，如果参数为1，读取进来的为彩色图片\n",
    "# 该方法完成图片的读取\n",
    "# 返回的是当前图片的内容\n",
    "# 包含了如下步骤：1 文件的读取 2 文件格式的分析 3 文件数据的解码 4 数据加载\n",
    "img = cv2.imread('./image0.jpg', 1)"
   ]
  },
  {
   "cell_type": "code",
   "execution_count": 4,
   "metadata": {},
   "outputs": [
    {
     "data": {
      "text/plain": [
       "-1"
      ]
     },
     "execution_count": 4,
     "metadata": {},
     "output_type": "execute_result"
    }
   ],
   "source": [
    "# 图片的展示\n",
    "# 有2个参数\n",
    "# 第1个参数是当前窗体的名称\n",
    "# 第2个参数是当前窗体展示的内容\n",
    "cv2.imshow('image', img)\n",
    "# 只有stop，我们才可以看到图片\n",
    "# 调用waitKey()完成程序的暂停\n",
    "cv2.waitKey(0)"
   ]
  },
  {
   "cell_type": "code",
   "execution_count": null,
   "metadata": {},
   "outputs": [],
   "source": []
  },
  {
   "cell_type": "code",
   "execution_count": null,
   "metadata": {},
   "outputs": [],
   "source": []
  }
 ],
 "metadata": {
  "kernelspec": {
   "display_name": "Python 3",
   "language": "python",
   "name": "python3"
  },
  "language_info": {
   "codemirror_mode": {
    "name": "ipython",
    "version": 3
   },
   "file_extension": ".py",
   "mimetype": "text/x-python",
   "name": "python",
   "nbconvert_exporter": "python",
   "pygments_lexer": "ipython3",
   "version": "3.7.0"
  }
 },
 "nbformat": 4,
 "nbformat_minor": 2
}
