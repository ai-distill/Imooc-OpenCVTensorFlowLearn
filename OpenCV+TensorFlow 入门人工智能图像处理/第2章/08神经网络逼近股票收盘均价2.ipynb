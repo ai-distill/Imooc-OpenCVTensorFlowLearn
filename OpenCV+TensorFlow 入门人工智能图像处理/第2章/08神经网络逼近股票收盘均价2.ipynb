{
 "cells": [
  {
   "cell_type": "code",
   "execution_count": 51,
   "metadata": {},
   "outputs": [],
   "source": [
    "import numpy as np\n",
    "import matplotlib.pyplot as plt"
   ]
  },
  {
   "cell_type": "code",
   "execution_count": 52,
   "metadata": {},
   "outputs": [],
   "source": [
    "# 收盘价格\n",
    "endprice = np.array([2511.90, 2538.26, 2510.68, 2591.66, 2732.98, 2701.69, 2701.29, 2678.67, 2726.50, 2681.50, 2739.17, 2715.07, 2823.58, 2864.90, 2919.08])\n",
    "# 开盘价格\n",
    "beginprice = np.array([2438.71, 2500.88, 2534.95, 2512.52, 2594.04, 2743.26, 2697.47, 2695.24, 2678.23, 2722.13, 2674.93, 2744.13, 2717.46, 2832.73, 2877.40])\n",
    "date = np.linspace(1, 15, num=15)"
   ]
  },
  {
   "cell_type": "code",
   "execution_count": 53,
   "metadata": {},
   "outputs": [
    {
     "name": "stdout",
     "output_type": "stream",
     "text": [
      "[ 1.  2.  3.  4.  5.  6.  7.  8.  9. 10. 11. 12. 13. 14. 15.]\n"
     ]
    }
   ],
   "source": [
    "print(date)"
   ]
  },
  {
   "cell_type": "code",
   "execution_count": 54,
   "metadata": {},
   "outputs": [
    {
     "data": {
      "image/png": "[encoded data removed]",
      "text/plain": [
       "<Figure size 432x288 with 1 Axes>"
      ]
     },
     "metadata": {
      "needs_background": "light"
     },
     "output_type": "display_data"
    }
   ],
   "source": [
    "for i in range(0, 15):\n",
    "    date_one = np.zeros([2])\n",
    "    price_one = np.zeros([2])\n",
    "    date_one[0] = i\n",
    "    date_one[1] = i\n",
    "    price_one[0] = beginprice[i]\n",
    "    price_one[1] = endprice[i]\n",
    "    if endprice[i] > beginprice[i]:\n",
    "        plt.plot(date_one, price_one, c='r', lw=8)\n",
    "    else:\n",
    "        plt.plot(date_one, price_one, c='g', lw=8)\n",
    "# plt.show()"
   ]
  },
  {
   "cell_type": "code",
   "execution_count": 55,
   "metadata": {},
   "outputs": [],
   "source": [
    "# 三层简单神经网络\n",
    "# 输入层：A(15 * 1) * w1(1 * 10) + b1(1 * 10) = B(15 * 10)\n",
    "# 隐藏层：B(15 * 10) * w2(10 * 1) + b2(15 * 1) = C(15 * 1)\n",
    "# 输出层：C\n",
    "import tensorflow as tf"
   ]
  },
  {
   "cell_type": "code",
   "execution_count": 56,
   "metadata": {},
   "outputs": [],
   "source": [
    "# A\n",
    "price_normal = np.zeros([15, 1])\n",
    "date_normal = np.zeros([15, 1])\n",
    "for i in range(0, 15):\n",
    "    date_normal[i, 0] = i / 14.0\n",
    "    price_normal[i, 0] = endprice[i] / 3000.0\n",
    "# 数据装载使用placeholder进行装载\n",
    "x = tf.placeholder(tf.float32, [None, 1]) # [None, 1]表示N行1列\n",
    "y = tf.placeholder(tf.float32, [None, 1])"
   ]
  },
  {
   "cell_type": "code",
   "execution_count": 57,
   "metadata": {},
   "outputs": [],
   "source": [
    "# B\n",
    "# 实现人工神经网络的隐藏层\n",
    "w1 = tf.Variable(tf.random_uniform([1, 10], 0, 1))\n",
    "b1 = tf.Variable(tf.zeros([1, 10]))\n",
    "wb1 = tf.matmul(x, w1) + b1\n",
    "# 激励函数\n",
    "layer1 = tf.nn.relu(wb1) "
   ]
  },
  {
   "cell_type": "code",
   "execution_count": 61,
   "metadata": {},
   "outputs": [],
   "source": [
    "# 输出层\n",
    "w2 = tf.Variable(tf.random_uniform([10, 1], 0, 1))\n",
    "b2 = tf.Variable(tf.zeros([15, 1]))\n",
    "wb2 = tf.matmul(layer1, w2) + b2\n",
    "# 激励函数\n",
    "layer2 = tf.nn.relu(wb2)\n",
    "\n",
    "# 计算神经网络计算出的值与实际的差异\n",
    "# 标准差\n",
    "loss = tf.reduce_mean(tf.square(y - layer2)) # y是真实值，layer2是计算值"
   ]
  },
  {
   "cell_type": "code",
   "execution_count": 62,
   "metadata": {},
   "outputs": [],
   "source": [
    "# 让损失函数逐渐减小\n",
    "# 表示每次调整步长\n",
    "# 梯度下降法有一个参数，每次调整多少，这里是0.1，每次梯度下降0.1\n",
    "# minimize()是让梯度下降方法有一个目标，作用就是下降loss,也就是真实值与计算值之间的差值\n",
    "train_step = tf.train.GradientDescentOptimizer(0.1).minimize(loss)"
   ]
  },
  {
   "cell_type": "code",
   "execution_count": 63,
   "metadata": {},
   "outputs": [
    {
     "data": {
      "image/png": "[encoded data removed]",
      "text/plain": [
       "<Figure size 432x288 with 1 Axes>"
      ]
     },
     "metadata": {
      "needs_background": "light"
     },
     "output_type": "display_data"
    }
   ],
   "source": [
    "with tf.Session() as sess:\n",
    "    # 初始化\n",
    "    sess.run(tf.global_variables_initializer())\n",
    "    # 开始训练，终止条件有2个，1：for循环控制，2：控制差距\n",
    "    for i in range(0, 10000):\n",
    "        sess.run(train_step, feed_dict={x:date_normal, y:price_normal})\n",
    "    # 预测\n",
    "    pred = sess.run(layer2, feed_dict = {x:date_normal})\n",
    "    pred_price = np.zeros([15, 1])\n",
    "    for i in range(0, 15):\n",
    "        pred_price[i, 0] = (pred_price*3000)[i, 0]\n",
    "    plt.plot(date, pred_price, 'b', lw=1)\n",
    "plt.show()"
   ]
  },
  {
   "cell_type": "code",
   "execution_count": null,
   "metadata": {},
   "outputs": [],
   "source": []
  },
  {
   "cell_type": "code",
   "execution_count": null,
   "metadata": {},
   "outputs": [],
   "source": []
  },
  {
   "cell_type": "code",
   "execution_count": null,
   "metadata": {},
   "outputs": [],
   "source": []
  }
 ],
 "metadata": {
  "kernelspec": {
   "display_name": "Python 3",
   "language": "python",
   "name": "python3"
  },
  "language_info": {
   "codemirror_mode": {
    "name": "ipython",
    "version": 3
   },
   "file_extension": ".py",
   "mimetype": "text/x-python",
   "name": "python",
   "nbconvert_exporter": "python",
   "pygments_lexer": "ipython3",
   "version": "3.7.0"
  }
 },
 "nbformat": 4,
 "nbformat_minor": 2
}
