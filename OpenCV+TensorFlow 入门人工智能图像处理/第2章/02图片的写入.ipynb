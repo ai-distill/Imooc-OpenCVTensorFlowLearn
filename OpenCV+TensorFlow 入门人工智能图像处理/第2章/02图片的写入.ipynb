{
 "cells": [
  {
   "cell_type": "code",
   "execution_count": 1,
   "metadata": {},
   "outputs": [],
   "source": [
    "import cv2"
   ]
  },
  {
   "cell_type": "code",
   "execution_count": 2,
   "metadata": {},
   "outputs": [],
   "source": [
    "img = cv2.imread('./image0.jpg', 1)"
   ]
  },
  {
   "cell_type": "code",
   "execution_count": 3,
   "metadata": {},
   "outputs": [
    {
     "data": {
      "text/plain": [
       "True"
      ]
     },
     "execution_count": 3,
     "metadata": {},
     "output_type": "execute_result"
    }
   ],
   "source": [
    "# 有2个参数\n",
    "# 第1个参数是 图片的名称\n",
    "# 第2个参数是 当前图片的数组\n",
    "# 此时的img是解码之后的数据\n",
    "cv2.imwrite('image1.jpg', img)"
   ]
  },
  {
   "cell_type": "code",
   "execution_count": 5,
   "metadata": {},
   "outputs": [
    {
     "data": {
      "text/plain": [
       "array([[[ 34,  36,  30],\n",
       "        [ 33,  35,  29],\n",
       "        [ 31,  33,  27],\n",
       "        ...,\n",
       "        [ 83, 110,  60],\n",
       "        [ 85, 110,  60],\n",
       "        [ 85, 110,  60]],\n",
       "\n",
       "       [[ 32,  34,  28],\n",
       "        [ 31,  33,  27],\n",
       "        [ 30,  32,  26],\n",
       "        ...,\n",
       "        [ 80, 107,  57],\n",
       "        [ 81, 106,  56],\n",
       "        [ 81, 106,  56]],\n",
       "\n",
       "       [[ 31,  33,  27],\n",
       "        [ 31,  33,  27],\n",
       "        [ 30,  32,  26],\n",
       "        ...,\n",
       "        [ 78, 107,  57],\n",
       "        [ 77, 104,  54],\n",
       "        [ 77, 104,  54]],\n",
       "\n",
       "       ...,\n",
       "\n",
       "       [[ 14,  16,  17],\n",
       "        [ 11,  16,  15],\n",
       "        [ 15,  18,  16],\n",
       "        ...,\n",
       "        [ 16,  16,  16],\n",
       "        [  9,  11,  11],\n",
       "        [ 10,  12,  12]],\n",
       "\n",
       "       [[ 12,  16,  17],\n",
       "        [ 11,  16,  15],\n",
       "        [ 15,  19,  14],\n",
       "        ...,\n",
       "        [ 16,  16,  16],\n",
       "        [ 14,  16,  16],\n",
       "        [ 15,  17,  17]],\n",
       "\n",
       "       [[ 12,  16,  17],\n",
       "        [ 11,  16,  15],\n",
       "        [ 15,  19,  14],\n",
       "        ...,\n",
       "        [ 16,  16,  16],\n",
       "        [ 17,  19,  19],\n",
       "        [ 17,  19,  19]]], dtype=uint8)"
      ]
     },
     "execution_count": 5,
     "metadata": {},
     "output_type": "execute_result"
    }
   ],
   "source": [
    "img"
   ]
  },
  {
   "cell_type": "code",
   "execution_count": 6,
   "metadata": {},
   "outputs": [
    {
     "data": {
      "text/plain": [
       "numpy.ndarray"
      ]
     },
     "execution_count": 6,
     "metadata": {},
     "output_type": "execute_result"
    }
   ],
   "source": [
    "type(img)"
   ]
  },
  {
   "cell_type": "code",
   "execution_count": null,
   "metadata": {},
   "outputs": [],
   "source": []
  }
 ],
 "metadata": {
  "kernelspec": {
   "display_name": "Python 3",
   "language": "python",
   "name": "python3"
  },
  "language_info": {
   "codemirror_mode": {
    "name": "ipython",
    "version": 3
   },
   "file_extension": ".py",
   "mimetype": "text/x-python",
   "name": "python",
   "nbconvert_exporter": "python",
   "pygments_lexer": "ipython3",
   "version": "3.7.0"
  }
 },
 "nbformat": 4,
 "nbformat_minor": 2
}
