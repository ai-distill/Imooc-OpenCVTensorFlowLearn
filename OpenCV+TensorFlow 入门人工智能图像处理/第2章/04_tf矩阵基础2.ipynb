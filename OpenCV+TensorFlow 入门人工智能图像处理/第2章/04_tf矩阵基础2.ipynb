{
 "cells": [
  {
   "cell_type": "code",
   "execution_count": 10,
   "metadata": {},
   "outputs": [
    {
     "name": "stdout",
     "output_type": "stream",
     "text": [
      "[[24]]\n",
      "[[9 9]]\n",
      "[[12 12]\n",
      " [12 12]]\n",
      "[array([[24]]), array([[9, 9]]), array([[12, 12],\n",
      "       [12, 12]])]\n"
     ]
    }
   ],
   "source": [
    "import tensorflow as tf\n",
    "data1 = tf.constant([[6, 6]])\n",
    "data2 = tf.constant([[2],\n",
    "                    [2]])\n",
    "data3 = tf.constant([[3, 3]])\n",
    "data4 = tf.constant([[1,2],\n",
    "                    [3,4],\n",
    "                     [5, 6]])\n",
    "# 矩阵乘法\n",
    "mat_mul = tf.matmul(data1, data2)\n",
    "# 矩阵加法\n",
    "mat_add = tf.add(data1, data3)\n",
    "\n",
    "mat_mul2 = tf.multiply(data1, data2)\n",
    "with tf.Session() as sess:\n",
    "    print(sess.run(mat_mul))\n",
    "    print(sess.run(mat_add))\n",
    "    print(sess.run(mat_mul2))\n",
    "    # 一次打印多个内容\n",
    "    print(sess.run([mat_mul, mat_add, mat_mul2]))"
   ]
  },
  {
   "cell_type": "code",
   "execution_count": 4,
   "metadata": {},
   "outputs": [],
   "source": []
  },
  {
   "cell_type": "code",
   "execution_count": 5,
   "metadata": {},
   "outputs": [],
   "source": []
  },
  {
   "cell_type": "markdown",
   "metadata": {},
   "source": []
  }
 ],
 "metadata": {
  "kernelspec": {
   "display_name": "Python 3",
   "language": "python",
   "name": "python3"
  },
  "language_info": {
   "codemirror_mode": {
    "name": "ipython",
    "version": 3
   },
   "file_extension": ".py",
   "mimetype": "text/x-python",
   "name": "python",
   "nbconvert_exporter": "python",
   "pygments_lexer": "ipython3",
   "version": "3.7.0"
  }
 },
 "nbformat": 4,
 "nbformat_minor": 2
}
