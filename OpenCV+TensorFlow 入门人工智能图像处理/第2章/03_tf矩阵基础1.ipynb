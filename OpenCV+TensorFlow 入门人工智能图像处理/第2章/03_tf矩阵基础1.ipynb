{
 "cells": [
  {
   "cell_type": "code",
   "execution_count": 8,
   "metadata": {},
   "outputs": [
    {
     "name": "stdout",
     "output_type": "stream",
     "text": [
      "8.0\n"
     ]
    }
   ],
   "source": [
    "#placehold\n",
    "import tensorflow as tf\n",
    "# 使用placeholder时，需要指定数据类型\n",
    "data1 = tf.placeholder(tf.float32)\n",
    "data2 = tf.placeholder(tf.float32)\n",
    "data_add = tf.add(data1, data2)\n",
    "with tf.Session() as sess:\n",
    "    # 第1个参数是指运算之后的张量，第2个参数是喂得数据，需要feed_dict = {参数1:参数1的内容, 参数2:参数2的内容}\n",
    "    print(sess.run(data_add, feed_dict={data1 : 6, data2 : 2}))"
   ]
  },
  {
   "cell_type": "code",
   "execution_count": 12,
   "metadata": {},
   "outputs": [
    {
     "name": "stdout",
     "output_type": "stream",
     "text": [
      "(3, 2)\n",
      "[[1 2]\n",
      " [3 4]\n",
      " [5 6]]\n",
      "[1 2]\n",
      "[1 3 5]\n"
     ]
    }
   ],
   "source": [
    "# 矩阵的操作类比数组\n",
    "import tensorflow as tf\n",
    "data1 = tf.constant([[6, 6]])\n",
    "data2 = tf.constant([[2],\n",
    "                    [2]])\n",
    "data3 = tf.constant([[3, 3]])\n",
    "data4 = tf.constant([[1, 2],\n",
    "                    [3, 4],\n",
    "                    [5, 6]])\n",
    "# 打印矩阵的维度\n",
    "print(data4.shape)\n",
    "with tf.Session() as sess:\n",
    "    # 打印整个矩阵\n",
    "    print(sess.run(data4))\n",
    "    # 打印某一行元素\n",
    "    print(sess.run(data4[0]))\n",
    "    # 打印某一列元素\n",
    "    print(sess.run(data4[ : ,0]))\n",
    "    "
   ]
  },
  {
   "cell_type": "code",
   "execution_count": null,
   "metadata": {},
   "outputs": [],
   "source": []
  }
 ],
 "metadata": {
  "kernelspec": {
   "display_name": "Python 3",
   "language": "python",
   "name": "python3"
  },
  "language_info": {
   "codemirror_mode": {
    "name": "ipython",
    "version": 3
   },
   "file_extension": ".py",
   "mimetype": "text/x-python",
   "name": "python",
   "nbconvert_exporter": "python",
   "pygments_lexer": "ipython3",
   "version": "3.7.0"
  }
 },
 "nbformat": 4,
 "nbformat_minor": 2
}
